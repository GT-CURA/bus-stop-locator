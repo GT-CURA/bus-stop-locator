{
 "cells": [
  {
   "cell_type": "code",
   "execution_count": null,
   "metadata": {},
   "outputs": [],
   "source": [
    "# Import libraries, get MARTA feed from protocol buffer \n",
    "from google.transit import gtfs_realtime_pb2\n",
    "\n",
    "feed = gtfs_realtime_pb2.FeedMessage()\n",
    "with open(\"vehiclepositions.pb\", \"rb\") as f:\n",
    "        feed.ParseFromString(f.read())\n"
   ]
  },
  {
   "cell_type": "code",
   "execution_count": 25,
   "metadata": {},
   "outputs": [
    {
     "data": {
      "text/plain": [
       "gtfs_realtime_version: \"2.0\"\n",
       "incrementality: FULL_DATASET\n",
       "timestamp: 1740104565"
      ]
     },
     "execution_count": 25,
     "metadata": {},
     "output_type": "execute_result"
    }
   ],
   "source": [
    "import json \n",
    "feed.header"
   ]
  }
 ],
 "metadata": {
  "kernelspec": {
   "display_name": "Python 3",
   "language": "python",
   "name": "python3"
  },
  "language_info": {
   "codemirror_mode": {
    "name": "ipython",
    "version": 3
   },
   "file_extension": ".py",
   "mimetype": "text/x-python",
   "name": "python",
   "nbconvert_exporter": "python",
   "pygments_lexer": "ipython3",
   "version": "3.11.11"
  }
 },
 "nbformat": 4,
 "nbformat_minor": 2
}
